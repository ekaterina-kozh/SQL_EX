{
  "nbformat": 4,
  "nbformat_minor": 0,
  "metadata": {
    "colab": {
      "provenance": [],
      "gpuType": "V28",
      "authorship_tag": "ABX9TyMO0yOlRjOR9uqiXx+ytPpz",
      "include_colab_link": true
    },
    "kernelspec": {
      "name": "python3",
      "display_name": "Python 3"
    },
    "language_info": {
      "name": "python"
    },
    "accelerator": "TPU"
  },
  "cells": [
    {
      "cell_type": "markdown",
      "metadata": {
        "id": "view-in-github",
        "colab_type": "text"
      },
      "source": [
        "<a href=\"https://colab.research.google.com/github/ekaterina-kozh/SQL_EX/blob/main/class_vn.ipynb\" target=\"_parent\"><img src=\"https://colab.research.google.com/assets/colab-badge.svg\" alt=\"Open In Colab\"/></a>"
      ]
    },
    {
      "cell_type": "markdown",
      "source": [
        "Разработай класс внимания, который будет включать механизм внимания Богданова и 3 варианта механизма внимания Luong:\n",
        "![image.png](data:image/png;base64,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)"
      ],
      "metadata": {
        "id": "H9m7agvQEshV"
      }
    },
    {
      "cell_type": "code",
      "execution_count": null,
      "metadata": {
        "id": "1_0st1Lt7kZt"
      },
      "outputs": [],
      "source": [
        "import numpy as np\n",
        "from random import randint\n",
        "import unicodedata\n",
        "import re\n",
        "import pandas as pd\n",
        "import tensorflow as tf\n",
        "from keras.models import Model, load_model\n",
        "from keras.layers import Dense, Embedding, GRU, Input, Dense, Embedding, Bidirectional, Concatenate, Dropout, Dot\n",
        "from keras.optimizers import RMSprop, Adadelta, Adam\n",
        "from keras.preprocessing.sequence import pad_sequences\n",
        "from tensorflow.keras.preprocessing.text import Tokenizer\n",
        "from keras import utils\n",
        "from keras.callbacks import EarlyStopping, ModelCheckpoint\n",
        "from keras.utils import plot_model\n",
        "from sklearn.model_selection import train_test_split\n",
        "import matplotlib.pyplot as plt\n",
        "import seaborn as sns\n",
        "%matplotlib inline\n",
        "import warnings\n",
        "warnings.filterwarnings('ignore')"
      ]
    },
    {
      "cell_type": "markdown",
      "source": [
        "Подготовка данных"
      ],
      "metadata": {
        "id": "TMLauYwx8BUH"
      }
    },
    {
      "cell_type": "code",
      "source": [
        "!wget https://storage.yandexcloud.net/academy.ai/LLM/dialogs.txt"
      ],
      "metadata": {
        "colab": {
          "base_uri": "https://localhost:8080/"
        },
        "id": "uUvJBfco8Fbm",
        "outputId": "b4761213-cc34-493d-f14b-f6e89926e7a3"
      },
      "execution_count": null,
      "outputs": [
        {
          "output_type": "stream",
          "name": "stdout",
          "text": [
            "--2024-10-06 13:06:53--  https://storage.yandexcloud.net/academy.ai/LLM/dialogs.txt\n",
            "Resolving storage.yandexcloud.net (storage.yandexcloud.net)... 213.180.193.243, 2a02:6b8::1d9\n",
            "Connecting to storage.yandexcloud.net (storage.yandexcloud.net)|213.180.193.243|:443... connected.\n",
            "HTTP request sent, awaiting response... 200 OK\n",
            "Length: 243904 (238K) [text/plain]\n",
            "Saving to: ‘dialogs.txt’\n",
            "\n",
            "dialogs.txt         100%[===================>] 238.19K   390KB/s    in 0.6s    \n",
            "\n",
            "2024-10-06 13:06:54 (390 KB/s) - ‘dialogs.txt’ saved [243904/243904]\n",
            "\n"
          ]
        }
      ]
    },
    {
      "cell_type": "markdown",
      "source": [
        "Определние констант"
      ],
      "metadata": {
        "id": "fxIpxFEk8Qt-"
      }
    },
    {
      "cell_type": "code",
      "source": [
        "BATCH_SIZE = 128      # размер обучающего пакета.\n",
        "EPOCHS = 60            # число эпох обучения.\n",
        "UNITS  = 1024         # число нейронов в рекуррентных с слоях.\n",
        "EMBED_DIM = 256       # размерность эмбеддинга.\n",
        "NUM_SAMPLES = 3000   # число примеров для обучения.\n",
        "FILE_NAME = \"dialogs.txt\" # имя файла со словарем в архиве\n",
        "SOS = '<start>'       # токен начала последовательсти\n",
        "EOS = '<end>'         # токен окончания последовательсти"
      ],
      "metadata": {
        "id": "4GXr_VXZ8Tq4"
      },
      "execution_count": null,
      "outputs": []
    },
    {
      "cell_type": "markdown",
      "source": [
        "Анализ датасета"
      ],
      "metadata": {
        "id": "jWpqG_AG8esX"
      }
    },
    {
      "cell_type": "code",
      "source": [
        "df = pd.read_csv(FILE_NAME, sep='\\t', header=None)\n",
        "df.head()"
      ],
      "metadata": {
        "colab": {
          "base_uri": "https://localhost:8080/",
          "height": 206
        },
        "id": "aH9cDt4z8ib3",
        "outputId": "db82bd02-6445-436e-9e8b-cc7a7671dbca"
      },
      "execution_count": null,
      "outputs": [
        {
          "output_type": "execute_result",
          "data": {
            "text/plain": [
              "                                     0  \\\n",
              "0               hi, how are you doing?   \n",
              "1        i'm fine. how about yourself?   \n",
              "2  i'm pretty good. thanks for asking.   \n",
              "3    no problem. so how have you been?   \n",
              "4     i've been great. what about you?   \n",
              "\n",
              "                                          1  \n",
              "0             i'm fine. how about yourself?  \n",
              "1       i'm pretty good. thanks for asking.  \n",
              "2         no problem. so how have you been?  \n",
              "3          i've been great. what about you?  \n",
              "4  i've been good. i'm in school right now.  "
            ],
            "text/html": [
              "\n",
              "  <div id=\"df-8b3023d2-7e3a-4002-929a-6529be477cef\" class=\"colab-df-container\">\n",
              "    <div>\n",
              "<style scoped>\n",
              "    .dataframe tbody tr th:only-of-type {\n",
              "        vertical-align: middle;\n",
              "    }\n",
              "\n",
              "    .dataframe tbody tr th {\n",
              "        vertical-align: top;\n",
              "    }\n",
              "\n",
              "    .dataframe thead th {\n",
              "        text-align: right;\n",
              "    }\n",
              "</style>\n",
              "<table border=\"1\" class=\"dataframe\">\n",
              "  <thead>\n",
              "    <tr style=\"text-align: right;\">\n",
              "      <th></th>\n",
              "      <th>0</th>\n",
              "      <th>1</th>\n",
              "    </tr>\n",
              "  </thead>\n",
              "  <tbody>\n",
              "    <tr>\n",
              "      <th>0</th>\n",
              "      <td>hi, how are you doing?</td>\n",
              "      <td>i'm fine. how about yourself?</td>\n",
              "    </tr>\n",
              "    <tr>\n",
              "      <th>1</th>\n",
              "      <td>i'm fine. how about yourself?</td>\n",
              "      <td>i'm pretty good. thanks for asking.</td>\n",
              "    </tr>\n",
              "    <tr>\n",
              "      <th>2</th>\n",
              "      <td>i'm pretty good. thanks for asking.</td>\n",
              "      <td>no problem. so how have you been?</td>\n",
              "    </tr>\n",
              "    <tr>\n",
              "      <th>3</th>\n",
              "      <td>no problem. so how have you been?</td>\n",
              "      <td>i've been great. what about you?</td>\n",
              "    </tr>\n",
              "    <tr>\n",
              "      <th>4</th>\n",
              "      <td>i've been great. what about you?</td>\n",
              "      <td>i've been good. i'm in school right now.</td>\n",
              "    </tr>\n",
              "  </tbody>\n",
              "</table>\n",
              "</div>\n",
              "    <div class=\"colab-df-buttons\">\n",
              "\n",
              "  <div class=\"colab-df-container\">\n",
              "    <button class=\"colab-df-convert\" onclick=\"convertToInteractive('df-8b3023d2-7e3a-4002-929a-6529be477cef')\"\n",
              "            title=\"Convert this dataframe to an interactive table.\"\n",
              "            style=\"display:none;\">\n",
              "\n",
              "  <svg xmlns=\"http://www.w3.org/2000/svg\" height=\"24px\" viewBox=\"0 -960 960 960\">\n",
              "    <path d=\"M120-120v-720h720v720H120Zm60-500h600v-160H180v160Zm220 220h160v-160H400v160Zm0 220h160v-160H400v160ZM180-400h160v-160H180v160Zm440 0h160v-160H620v160ZM180-180h160v-160H180v160Zm440 0h160v-160H620v160Z\"/>\n",
              "  </svg>\n",
              "    </button>\n",
              "\n",
              "  <style>\n",
              "    .colab-df-container {\n",
              "      display:flex;\n",
              "      gap: 12px;\n",
              "    }\n",
              "\n",
              "    .colab-df-convert {\n",
              "      background-color: #E8F0FE;\n",
              "      border: none;\n",
              "      border-radius: 50%;\n",
              "      cursor: pointer;\n",
              "      display: none;\n",
              "      fill: #1967D2;\n",
              "      height: 32px;\n",
              "      padding: 0 0 0 0;\n",
              "      width: 32px;\n",
              "    }\n",
              "\n",
              "    .colab-df-convert:hover {\n",
              "      background-color: #E2EBFA;\n",
              "      box-shadow: 0px 1px 2px rgba(60, 64, 67, 0.3), 0px 1px 3px 1px rgba(60, 64, 67, 0.15);\n",
              "      fill: #174EA6;\n",
              "    }\n",
              "\n",
              "    .colab-df-buttons div {\n",
              "      margin-bottom: 4px;\n",
              "    }\n",
              "\n",
              "    [theme=dark] .colab-df-convert {\n",
              "      background-color: #3B4455;\n",
              "      fill: #D2E3FC;\n",
              "    }\n",
              "\n",
              "    [theme=dark] .colab-df-convert:hover {\n",
              "      background-color: #434B5C;\n",
              "      box-shadow: 0px 1px 3px 1px rgba(0, 0, 0, 0.15);\n",
              "      filter: drop-shadow(0px 1px 2px rgba(0, 0, 0, 0.3));\n",
              "      fill: #FFFFFF;\n",
              "    }\n",
              "  </style>\n",
              "\n",
              "    <script>\n",
              "      const buttonEl =\n",
              "        document.querySelector('#df-8b3023d2-7e3a-4002-929a-6529be477cef button.colab-df-convert');\n",
              "      buttonEl.style.display =\n",
              "        google.colab.kernel.accessAllowed ? 'block' : 'none';\n",
              "\n",
              "      async function convertToInteractive(key) {\n",
              "        const element = document.querySelector('#df-8b3023d2-7e3a-4002-929a-6529be477cef');\n",
              "        const dataTable =\n",
              "          await google.colab.kernel.invokeFunction('convertToInteractive',\n",
              "                                                    [key], {});\n",
              "        if (!dataTable) return;\n",
              "\n",
              "        const docLinkHtml = 'Like what you see? Visit the ' +\n",
              "          '<a target=\"_blank\" href=https://colab.research.google.com/notebooks/data_table.ipynb>data table notebook</a>'\n",
              "          + ' to learn more about interactive tables.';\n",
              "        element.innerHTML = '';\n",
              "        dataTable['output_type'] = 'display_data';\n",
              "        await google.colab.output.renderOutput(dataTable, element);\n",
              "        const docLink = document.createElement('div');\n",
              "        docLink.innerHTML = docLinkHtml;\n",
              "        element.appendChild(docLink);\n",
              "      }\n",
              "    </script>\n",
              "  </div>\n",
              "\n",
              "\n",
              "<div id=\"df-23c6a17e-0f1d-45a1-8d54-2d41657d31db\">\n",
              "  <button class=\"colab-df-quickchart\" onclick=\"quickchart('df-23c6a17e-0f1d-45a1-8d54-2d41657d31db')\"\n",
              "            title=\"Suggest charts\"\n",
              "            style=\"display:none;\">\n",
              "\n",
              "<svg xmlns=\"http://www.w3.org/2000/svg\" height=\"24px\"viewBox=\"0 0 24 24\"\n",
              "     width=\"24px\">\n",
              "    <g>\n",
              "        <path d=\"M19 3H5c-1.1 0-2 .9-2 2v14c0 1.1.9 2 2 2h14c1.1 0 2-.9 2-2V5c0-1.1-.9-2-2-2zM9 17H7v-7h2v7zm4 0h-2V7h2v10zm4 0h-2v-4h2v4z\"/>\n",
              "    </g>\n",
              "</svg>\n",
              "  </button>\n",
              "\n",
              "<style>\n",
              "  .colab-df-quickchart {\n",
              "      --bg-color: #E8F0FE;\n",
              "      --fill-color: #1967D2;\n",
              "      --hover-bg-color: #E2EBFA;\n",
              "      --hover-fill-color: #174EA6;\n",
              "      --disabled-fill-color: #AAA;\n",
              "      --disabled-bg-color: #DDD;\n",
              "  }\n",
              "\n",
              "  [theme=dark] .colab-df-quickchart {\n",
              "      --bg-color: #3B4455;\n",
              "      --fill-color: #D2E3FC;\n",
              "      --hover-bg-color: #434B5C;\n",
              "      --hover-fill-color: #FFFFFF;\n",
              "      --disabled-bg-color: #3B4455;\n",
              "      --disabled-fill-color: #666;\n",
              "  }\n",
              "\n",
              "  .colab-df-quickchart {\n",
              "    background-color: var(--bg-color);\n",
              "    border: none;\n",
              "    border-radius: 50%;\n",
              "    cursor: pointer;\n",
              "    display: none;\n",
              "    fill: var(--fill-color);\n",
              "    height: 32px;\n",
              "    padding: 0;\n",
              "    width: 32px;\n",
              "  }\n",
              "\n",
              "  .colab-df-quickchart:hover {\n",
              "    background-color: var(--hover-bg-color);\n",
              "    box-shadow: 0 1px 2px rgba(60, 64, 67, 0.3), 0 1px 3px 1px rgba(60, 64, 67, 0.15);\n",
              "    fill: var(--button-hover-fill-color);\n",
              "  }\n",
              "\n",
              "  .colab-df-quickchart-complete:disabled,\n",
              "  .colab-df-quickchart-complete:disabled:hover {\n",
              "    background-color: var(--disabled-bg-color);\n",
              "    fill: var(--disabled-fill-color);\n",
              "    box-shadow: none;\n",
              "  }\n",
              "\n",
              "  .colab-df-spinner {\n",
              "    border: 2px solid var(--fill-color);\n",
              "    border-color: transparent;\n",
              "    border-bottom-color: var(--fill-color);\n",
              "    animation:\n",
              "      spin 1s steps(1) infinite;\n",
              "  }\n",
              "\n",
              "  @keyframes spin {\n",
              "    0% {\n",
              "      border-color: transparent;\n",
              "      border-bottom-color: var(--fill-color);\n",
              "      border-left-color: var(--fill-color);\n",
              "    }\n",
              "    20% {\n",
              "      border-color: transparent;\n",
              "      border-left-color: var(--fill-color);\n",
              "      border-top-color: var(--fill-color);\n",
              "    }\n",
              "    30% {\n",
              "      border-color: transparent;\n",
              "      border-left-color: var(--fill-color);\n",
              "      border-top-color: var(--fill-color);\n",
              "      border-right-color: var(--fill-color);\n",
              "    }\n",
              "    40% {\n",
              "      border-color: transparent;\n",
              "      border-right-color: var(--fill-color);\n",
              "      border-top-color: var(--fill-color);\n",
              "    }\n",
              "    60% {\n",
              "      border-color: transparent;\n",
              "      border-right-color: var(--fill-color);\n",
              "    }\n",
              "    80% {\n",
              "      border-color: transparent;\n",
              "      border-right-color: var(--fill-color);\n",
              "      border-bottom-color: var(--fill-color);\n",
              "    }\n",
              "    90% {\n",
              "      border-color: transparent;\n",
              "      border-bottom-color: var(--fill-color);\n",
              "    }\n",
              "  }\n",
              "</style>\n",
              "\n",
              "  <script>\n",
              "    async function quickchart(key) {\n",
              "      const quickchartButtonEl =\n",
              "        document.querySelector('#' + key + ' button');\n",
              "      quickchartButtonEl.disabled = true;  // To prevent multiple clicks.\n",
              "      quickchartButtonEl.classList.add('colab-df-spinner');\n",
              "      try {\n",
              "        const charts = await google.colab.kernel.invokeFunction(\n",
              "            'suggestCharts', [key], {});\n",
              "      } catch (error) {\n",
              "        console.error('Error during call to suggestCharts:', error);\n",
              "      }\n",
              "      quickchartButtonEl.classList.remove('colab-df-spinner');\n",
              "      quickchartButtonEl.classList.add('colab-df-quickchart-complete');\n",
              "    }\n",
              "    (() => {\n",
              "      let quickchartButtonEl =\n",
              "        document.querySelector('#df-23c6a17e-0f1d-45a1-8d54-2d41657d31db button');\n",
              "      quickchartButtonEl.style.display =\n",
              "        google.colab.kernel.accessAllowed ? 'block' : 'none';\n",
              "    })();\n",
              "  </script>\n",
              "</div>\n",
              "    </div>\n",
              "  </div>\n"
            ],
            "application/vnd.google.colaboratory.intrinsic+json": {
              "type": "dataframe",
              "variable_name": "df",
              "summary": "{\n  \"name\": \"df\",\n  \"rows\": 3725,\n  \"fields\": [\n    {\n      \"column\": 0,\n      \"properties\": {\n        \"dtype\": \"string\",\n        \"num_unique_values\": 3510,\n        \"samples\": [\n          \"i'm not voting for the mayor.\",\n          \"didn't you laugh through the whole movie? i did.\",\n          \"housekeeping didn't give us fresh towels.\"\n        ],\n        \"semantic_type\": \"\",\n        \"description\": \"\"\n      }\n    },\n    {\n      \"column\": 1,\n      \"properties\": {\n        \"dtype\": \"string\",\n        \"num_unique_values\": 3512,\n        \"samples\": [\n          \"i've been really busy.\",\n          \"so what are you going to do?\",\n          \"i love to eat the peanuts.\"\n        ],\n        \"semantic_type\": \"\",\n        \"description\": \"\"\n      }\n    }\n  ]\n}"
            }
          },
          "metadata": {},
          "execution_count": 4
        }
      ]
    },
    {
      "cell_type": "code",
      "source": [
        "df[NUM_SAMPLES-5:NUM_SAMPLES]"
      ],
      "metadata": {
        "colab": {
          "base_uri": "https://localhost:8080/",
          "height": 206
        },
        "id": "Q9j-WVct8tgF",
        "outputId": "421ab1e7-9e84-48b1-c1bf-4881451946e0"
      },
      "execution_count": null,
      "outputs": [
        {
          "output_type": "execute_result",
          "data": {
            "text/plain": [
              "                                                      0  \\\n",
              "2995                             so what's the problem?   \n",
              "2996         i used all my savings on this one company.   \n",
              "2997             you put all your eggs into one basket.   \n",
              "2998  if the company goes out of business, i'll have...   \n",
              "2999                        i was going to be a doctor.   \n",
              "\n",
              "                                                      1  \n",
              "2995         i used all my savings on this one company.  \n",
              "2996             you put all your eggs into one basket.  \n",
              "2997  if the company goes out of business, i'll have...  \n",
              "2998  oh, you'll have somethingyou'll have a lesson...  \n",
              "2999                       what happened to your plans?  "
            ],
            "text/html": [
              "\n",
              "  <div id=\"df-d5ff74e3-6320-4afd-9e11-cb244007b2f7\" class=\"colab-df-container\">\n",
              "    <div>\n",
              "<style scoped>\n",
              "    .dataframe tbody tr th:only-of-type {\n",
              "        vertical-align: middle;\n",
              "    }\n",
              "\n",
              "    .dataframe tbody tr th {\n",
              "        vertical-align: top;\n",
              "    }\n",
              "\n",
              "    .dataframe thead th {\n",
              "        text-align: right;\n",
              "    }\n",
              "</style>\n",
              "<table border=\"1\" class=\"dataframe\">\n",
              "  <thead>\n",
              "    <tr style=\"text-align: right;\">\n",
              "      <th></th>\n",
              "      <th>0</th>\n",
              "      <th>1</th>\n",
              "    </tr>\n",
              "  </thead>\n",
              "  <tbody>\n",
              "    <tr>\n",
              "      <th>2995</th>\n",
              "      <td>so what's the problem?</td>\n",
              "      <td>i used all my savings on this one company.</td>\n",
              "    </tr>\n",
              "    <tr>\n",
              "      <th>2996</th>\n",
              "      <td>i used all my savings on this one company.</td>\n",
              "      <td>you put all your eggs into one basket.</td>\n",
              "    </tr>\n",
              "    <tr>\n",
              "      <th>2997</th>\n",
              "      <td>you put all your eggs into one basket.</td>\n",
              "      <td>if the company goes out of business, i'll have...</td>\n",
              "    </tr>\n",
              "    <tr>\n",
              "      <th>2998</th>\n",
              "      <td>if the company goes out of business, i'll have...</td>\n",
              "      <td>oh, you'll have somethingyou'll have a lesson...</td>\n",
              "    </tr>\n",
              "    <tr>\n",
              "      <th>2999</th>\n",
              "      <td>i was going to be a doctor.</td>\n",
              "      <td>what happened to your plans?</td>\n",
              "    </tr>\n",
              "  </tbody>\n",
              "</table>\n",
              "</div>\n",
              "    <div class=\"colab-df-buttons\">\n",
              "\n",
              "  <div class=\"colab-df-container\">\n",
              "    <button class=\"colab-df-convert\" onclick=\"convertToInteractive('df-d5ff74e3-6320-4afd-9e11-cb244007b2f7')\"\n",
              "            title=\"Convert this dataframe to an interactive table.\"\n",
              "            style=\"display:none;\">\n",
              "\n",
              "  <svg xmlns=\"http://www.w3.org/2000/svg\" height=\"24px\" viewBox=\"0 -960 960 960\">\n",
              "    <path d=\"M120-120v-720h720v720H120Zm60-500h600v-160H180v160Zm220 220h160v-160H400v160Zm0 220h160v-160H400v160ZM180-400h160v-160H180v160Zm440 0h160v-160H620v160ZM180-180h160v-160H180v160Zm440 0h160v-160H620v160Z\"/>\n",
              "  </svg>\n",
              "    </button>\n",
              "\n",
              "  <style>\n",
              "    .colab-df-container {\n",
              "      display:flex;\n",
              "      gap: 12px;\n",
              "    }\n",
              "\n",
              "    .colab-df-convert {\n",
              "      background-color: #E8F0FE;\n",
              "      border: none;\n",
              "      border-radius: 50%;\n",
              "      cursor: pointer;\n",
              "      display: none;\n",
              "      fill: #1967D2;\n",
              "      height: 32px;\n",
              "      padding: 0 0 0 0;\n",
              "      width: 32px;\n",
              "    }\n",
              "\n",
              "    .colab-df-convert:hover {\n",
              "      background-color: #E2EBFA;\n",
              "      box-shadow: 0px 1px 2px rgba(60, 64, 67, 0.3), 0px 1px 3px 1px rgba(60, 64, 67, 0.15);\n",
              "      fill: #174EA6;\n",
              "    }\n",
              "\n",
              "    .colab-df-buttons div {\n",
              "      margin-bottom: 4px;\n",
              "    }\n",
              "\n",
              "    [theme=dark] .colab-df-convert {\n",
              "      background-color: #3B4455;\n",
              "      fill: #D2E3FC;\n",
              "    }\n",
              "\n",
              "    [theme=dark] .colab-df-convert:hover {\n",
              "      background-color: #434B5C;\n",
              "      box-shadow: 0px 1px 3px 1px rgba(0, 0, 0, 0.15);\n",
              "      filter: drop-shadow(0px 1px 2px rgba(0, 0, 0, 0.3));\n",
              "      fill: #FFFFFF;\n",
              "    }\n",
              "  </style>\n",
              "\n",
              "    <script>\n",
              "      const buttonEl =\n",
              "        document.querySelector('#df-d5ff74e3-6320-4afd-9e11-cb244007b2f7 button.colab-df-convert');\n",
              "      buttonEl.style.display =\n",
              "        google.colab.kernel.accessAllowed ? 'block' : 'none';\n",
              "\n",
              "      async function convertToInteractive(key) {\n",
              "        const element = document.querySelector('#df-d5ff74e3-6320-4afd-9e11-cb244007b2f7');\n",
              "        const dataTable =\n",
              "          await google.colab.kernel.invokeFunction('convertToInteractive',\n",
              "                                                    [key], {});\n",
              "        if (!dataTable) return;\n",
              "\n",
              "        const docLinkHtml = 'Like what you see? Visit the ' +\n",
              "          '<a target=\"_blank\" href=https://colab.research.google.com/notebooks/data_table.ipynb>data table notebook</a>'\n",
              "          + ' to learn more about interactive tables.';\n",
              "        element.innerHTML = '';\n",
              "        dataTable['output_type'] = 'display_data';\n",
              "        await google.colab.output.renderOutput(dataTable, element);\n",
              "        const docLink = document.createElement('div');\n",
              "        docLink.innerHTML = docLinkHtml;\n",
              "        element.appendChild(docLink);\n",
              "      }\n",
              "    </script>\n",
              "  </div>\n",
              "\n",
              "\n",
              "<div id=\"df-464df21a-40b5-400e-859d-24b4e9556beb\">\n",
              "  <button class=\"colab-df-quickchart\" onclick=\"quickchart('df-464df21a-40b5-400e-859d-24b4e9556beb')\"\n",
              "            title=\"Suggest charts\"\n",
              "            style=\"display:none;\">\n",
              "\n",
              "<svg xmlns=\"http://www.w3.org/2000/svg\" height=\"24px\"viewBox=\"0 0 24 24\"\n",
              "     width=\"24px\">\n",
              "    <g>\n",
              "        <path d=\"M19 3H5c-1.1 0-2 .9-2 2v14c0 1.1.9 2 2 2h14c1.1 0 2-.9 2-2V5c0-1.1-.9-2-2-2zM9 17H7v-7h2v7zm4 0h-2V7h2v10zm4 0h-2v-4h2v4z\"/>\n",
              "    </g>\n",
              "</svg>\n",
              "  </button>\n",
              "\n",
              "<style>\n",
              "  .colab-df-quickchart {\n",
              "      --bg-color: #E8F0FE;\n",
              "      --fill-color: #1967D2;\n",
              "      --hover-bg-color: #E2EBFA;\n",
              "      --hover-fill-color: #174EA6;\n",
              "      --disabled-fill-color: #AAA;\n",
              "      --disabled-bg-color: #DDD;\n",
              "  }\n",
              "\n",
              "  [theme=dark] .colab-df-quickchart {\n",
              "      --bg-color: #3B4455;\n",
              "      --fill-color: #D2E3FC;\n",
              "      --hover-bg-color: #434B5C;\n",
              "      --hover-fill-color: #FFFFFF;\n",
              "      --disabled-bg-color: #3B4455;\n",
              "      --disabled-fill-color: #666;\n",
              "  }\n",
              "\n",
              "  .colab-df-quickchart {\n",
              "    background-color: var(--bg-color);\n",
              "    border: none;\n",
              "    border-radius: 50%;\n",
              "    cursor: pointer;\n",
              "    display: none;\n",
              "    fill: var(--fill-color);\n",
              "    height: 32px;\n",
              "    padding: 0;\n",
              "    width: 32px;\n",
              "  }\n",
              "\n",
              "  .colab-df-quickchart:hover {\n",
              "    background-color: var(--hover-bg-color);\n",
              "    box-shadow: 0 1px 2px rgba(60, 64, 67, 0.3), 0 1px 3px 1px rgba(60, 64, 67, 0.15);\n",
              "    fill: var(--button-hover-fill-color);\n",
              "  }\n",
              "\n",
              "  .colab-df-quickchart-complete:disabled,\n",
              "  .colab-df-quickchart-complete:disabled:hover {\n",
              "    background-color: var(--disabled-bg-color);\n",
              "    fill: var(--disabled-fill-color);\n",
              "    box-shadow: none;\n",
              "  }\n",
              "\n",
              "  .colab-df-spinner {\n",
              "    border: 2px solid var(--fill-color);\n",
              "    border-color: transparent;\n",
              "    border-bottom-color: var(--fill-color);\n",
              "    animation:\n",
              "      spin 1s steps(1) infinite;\n",
              "  }\n",
              "\n",
              "  @keyframes spin {\n",
              "    0% {\n",
              "      border-color: transparent;\n",
              "      border-bottom-color: var(--fill-color);\n",
              "      border-left-color: var(--fill-color);\n",
              "    }\n",
              "    20% {\n",
              "      border-color: transparent;\n",
              "      border-left-color: var(--fill-color);\n",
              "      border-top-color: var(--fill-color);\n",
              "    }\n",
              "    30% {\n",
              "      border-color: transparent;\n",
              "      border-left-color: var(--fill-color);\n",
              "      border-top-color: var(--fill-color);\n",
              "      border-right-color: var(--fill-color);\n",
              "    }\n",
              "    40% {\n",
              "      border-color: transparent;\n",
              "      border-right-color: var(--fill-color);\n",
              "      border-top-color: var(--fill-color);\n",
              "    }\n",
              "    60% {\n",
              "      border-color: transparent;\n",
              "      border-right-color: var(--fill-color);\n",
              "    }\n",
              "    80% {\n",
              "      border-color: transparent;\n",
              "      border-right-color: var(--fill-color);\n",
              "      border-bottom-color: var(--fill-color);\n",
              "    }\n",
              "    90% {\n",
              "      border-color: transparent;\n",
              "      border-bottom-color: var(--fill-color);\n",
              "    }\n",
              "  }\n",
              "</style>\n",
              "\n",
              "  <script>\n",
              "    async function quickchart(key) {\n",
              "      const quickchartButtonEl =\n",
              "        document.querySelector('#' + key + ' button');\n",
              "      quickchartButtonEl.disabled = true;  // To prevent multiple clicks.\n",
              "      quickchartButtonEl.classList.add('colab-df-spinner');\n",
              "      try {\n",
              "        const charts = await google.colab.kernel.invokeFunction(\n",
              "            'suggestCharts', [key], {});\n",
              "      } catch (error) {\n",
              "        console.error('Error during call to suggestCharts:', error);\n",
              "      }\n",
              "      quickchartButtonEl.classList.remove('colab-df-spinner');\n",
              "      quickchartButtonEl.classList.add('colab-df-quickchart-complete');\n",
              "    }\n",
              "    (() => {\n",
              "      let quickchartButtonEl =\n",
              "        document.querySelector('#df-464df21a-40b5-400e-859d-24b4e9556beb button');\n",
              "      quickchartButtonEl.style.display =\n",
              "        google.colab.kernel.accessAllowed ? 'block' : 'none';\n",
              "    })();\n",
              "  </script>\n",
              "</div>\n",
              "    </div>\n",
              "  </div>\n"
            ],
            "application/vnd.google.colaboratory.intrinsic+json": {
              "type": "dataframe",
              "summary": "{\n  \"name\": \"df[NUM_SAMPLES-5:NUM_SAMPLES]\",\n  \"rows\": 5,\n  \"fields\": [\n    {\n      \"column\": 0,\n      \"properties\": {\n        \"dtype\": \"string\",\n        \"num_unique_values\": 5,\n        \"samples\": [\n          \"i used all my savings on this one company.\",\n          \"i was going to be a doctor.\",\n          \"you put all your eggs into one basket.\"\n        ],\n        \"semantic_type\": \"\",\n        \"description\": \"\"\n      }\n    },\n    {\n      \"column\": 1,\n      \"properties\": {\n        \"dtype\": \"string\",\n        \"num_unique_values\": 5,\n        \"samples\": [\n          \"you put all your eggs into one basket.\",\n          \"what happened to your plans?\",\n          \"if the company goes out of business, i'll have nothing.\"\n        ],\n        \"semantic_type\": \"\",\n        \"description\": \"\"\n      }\n    }\n  ]\n}"
            }
          },
          "metadata": {},
          "execution_count": 61
        }
      ]
    },
    {
      "cell_type": "markdown",
      "source": [
        "Подготовка данных"
      ],
      "metadata": {
        "id": "fVUPUK9_9PBp"
      }
    },
    {
      "cell_type": "code",
      "source": [
        "def preprocess_sentence(w):\n",
        "    w = re.sub(r\"([?.!,;:¿])\", r\" \\1 \", w)\n",
        "    w = re.sub(r'[\" \"]+', \" \", w)\n",
        "\n",
        "    w = re.sub(r\"[^a-zA-Zа-яёА-ЯЁ?'`.!,;:¿]+\", \" \", w)\n",
        "    w = w.rstrip().strip()\n",
        "\n",
        "    # Добавляем в фразу токены SOS и EOS\n",
        "    w = SOS + ' ' + w + ' ' + EOS\n",
        "    return w"
      ],
      "metadata": {
        "id": "Is4ZFHMS9SOi"
      },
      "execution_count": null,
      "outputs": []
    },
    {
      "cell_type": "markdown",
      "source": [
        "Формирование выборок"
      ],
      "metadata": {
        "id": "xYupw8tv9WQC"
      }
    },
    {
      "cell_type": "code",
      "source": [
        "# Собираем вопросы и ответы в списки\n",
        "\n",
        "questions = [] # список входных фраз\n",
        "answers = []   # список ответных фраз\n",
        "\n",
        "with open(FILE_NAME, \"r\", encoding=\"utf-8\") as f: # открываем файл в режиме чтения\n",
        "    lines = f.read().split(\"\\n\")                    # считываем весь файл, разделяя на строки\n",
        "\n",
        "for line in lines[: min(NUM_SAMPLES, len(lines) - 1)]:\n",
        "    input_text, target_text = line.split(\"\\t\")\n",
        "\n",
        "    # Подготовка данных\n",
        "    questions.append(preprocess_sentence(input_text))\n",
        "    answers.append(preprocess_sentence(target_text))\n",
        "\n",
        "\n",
        "print(\"Число примеров:\", len(answers))\n",
        "\n",
        "#  Получим случайный вопрос и ответ\n",
        "random_index = randint(0, len(questions)-1)\n",
        "print(f'Вопрос : {questions[random_index]}') # Пример входной фразы\n",
        "print(f'Ответ : {answers[random_index]}')    # Пример ответной фразы"
      ],
      "metadata": {
        "colab": {
          "base_uri": "https://localhost:8080/"
        },
        "id": "x3V-RGSW9Yd2",
        "outputId": "86e8d86c-6a03-4547-bd62-10f786b2fb21"
      },
      "execution_count": null,
      "outputs": [
        {
          "output_type": "stream",
          "name": "stdout",
          "text": [
            "Число примеров: 3000\n",
            "Вопрос : <start> what do you mean ? <end>\n",
            "Ответ : <start> while you're using the bathroom , i'll order some food . <end>\n"
          ]
        }
      ]
    },
    {
      "cell_type": "markdown",
      "source": [
        "Токенизируем выборку"
      ],
      "metadata": {
        "id": "EaC_UeLYANfM"
      }
    },
    {
      "cell_type": "code",
      "source": [
        "def tokenize(text): # функция принимает текст на заданном языке\n",
        "    # Создадим токенайзер\n",
        "    tokenizer = Tokenizer(filters='')\n",
        "\n",
        "    # Загружаем в токенизатор тексты для обработки и сборки словаря частотности\n",
        "    tokenizer.fit_on_texts(text)\n",
        "\n",
        "    # Векторизируем фразы\n",
        "    seq = tokenizer.texts_to_sequences(text)\n",
        "\n",
        "    # Делаем последовательности одной длины, заполняя нулями короткие фразы\n",
        "    pseq = pad_sequences(seq, padding='post')\n",
        "\n",
        "    # Возвращаем последовательность индексов и токенизатор\n",
        "    return pseq, tokenizer"
      ],
      "metadata": {
        "id": "G7wm3JWVAQKr"
      },
      "execution_count": null,
      "outputs": []
    },
    {
      "cell_type": "code",
      "source": [
        "paddedQuestions, tokenizer_qu = tokenize(questions)    # формируем вектор фикс длины для вопросов  и токенизатор для английского языка\n",
        "paddedAnswers, tokenizer_an   = tokenize(answers)      # формируем вектор фикс длины для ответов  и токенизатор для русского языка\n",
        "\n",
        "max_length_qu = paddedAnswers.shape[1]\n",
        "max_length_an = paddedQuestions.shape[1]"
      ],
      "metadata": {
        "id": "jqSiCP3VATNj"
      },
      "execution_count": null,
      "outputs": []
    },
    {
      "cell_type": "markdown",
      "source": [
        "Обучающая и проверочная выборки"
      ],
      "metadata": {
        "id": "7EIsz4mGAZ1k"
      }
    },
    {
      "cell_type": "code",
      "source": [
        "# Создание обучающей и проверочной выборок в соотношении 80/20\n",
        "questions_train, questions_val, answers_train, answers_val = train_test_split(paddedQuestions, paddedAnswers, test_size=0.2)"
      ],
      "metadata": {
        "id": "l7mSRBgzAalF"
      },
      "execution_count": null,
      "outputs": []
    },
    {
      "cell_type": "code",
      "source": [
        "# Определим параметры\n",
        "BUFFER_SIZE = len(questions_train)                     # случайно сэмплировать будем по всей длине обучающейся выборки\n",
        "STEPS_PER_EPOCH = len(questions_train)//BATCH_SIZE     # количество шагов в одной эпохе\n",
        "VOCAB_EN_SIZE = len(tokenizer_qu.word_index) + 1\n",
        "VOCAB_RU_SIZE = len(tokenizer_an.word_index) + 1\n",
        "\n",
        "# Маппинг данных из индексов в слова\n",
        "def convert(lang, tensor):\n",
        "  for t in tensor:\n",
        "    if t != 0:\n",
        "      print (\"%d ----> %s\" % (t, lang.index_word[t]))\n",
        "\n",
        "print (\"Исходный вопрос:\")\n",
        "convert(tokenizer_qu, questions_train[0])\n",
        "print ()\n",
        "print (\"Целевой ответ:\")\n",
        "convert(tokenizer_an, answers_train[0])"
      ],
      "metadata": {
        "colab": {
          "base_uri": "https://localhost:8080/"
        },
        "id": "CTLhOAkgAfYi",
        "outputId": "dcaeadc1-ba65-4c1c-f16c-22f679856b98"
      },
      "execution_count": null,
      "outputs": [
        {
          "output_type": "stream",
          "name": "stdout",
          "text": [
            "Исходный вопрос:\n",
            "1 ----> <start>\n",
            "402 ----> remember\n",
            "9 ----> to\n",
            "212 ----> put\n",
            "473 ----> air\n",
            "22 ----> in\n",
            "44 ----> your\n",
            "408 ----> tires\n",
            "3 ----> .\n",
            "2 ----> <end>\n",
            "\n",
            "Целевой ответ:\n",
            "1 ----> <start>\n",
            "43 ----> how\n",
            "862 ----> often\n",
            "13 ----> do\n",
            "4 ----> i\n",
            "18 ----> have\n",
            "9 ----> to\n",
            "13 ----> do\n",
            "12 ----> that\n",
            "5 ----> ?\n",
            "2 ----> <end>\n"
          ]
        }
      ]
    },
    {
      "cell_type": "markdown",
      "source": [
        "Создадим датасет tf.data.Dataset из массивов Numpy со случайной подачей тренировочных сэмплов в процессе обучения:"
      ],
      "metadata": {
        "id": "yWwi5E4bAlfJ"
      }
    },
    {
      "cell_type": "code",
      "source": [
        "# Создаём датасет\n",
        "dataset = tf.data.Dataset.from_tensor_slices((questions_train, answers_train)).shuffle(BUFFER_SIZE)\n",
        "\n",
        "# Передаем в датасет размер батча и указываем, что если в тренировке последний батч окажется неполным, то опустим его\n",
        "dataset = dataset.batch(BATCH_SIZE, drop_remainder=True)\n",
        "\n",
        "# Посмотрим на форму примеров полученных батчей\n",
        "example_questions_batch, example_answers_batch = next(iter(dataset))\n",
        "print('Форма батчей вопросов и ответом: ', example_questions_batch.shape, example_answers_batch.shape)"
      ],
      "metadata": {
        "colab": {
          "base_uri": "https://localhost:8080/"
        },
        "id": "SbD5-MohAmVy",
        "outputId": "da04c702-eb5f-42f6-cd73-759eacd69175"
      },
      "execution_count": null,
      "outputs": [
        {
          "output_type": "stream",
          "name": "stdout",
          "text": [
            "Форма батчей вопросов и ответом:  (128, 24) (128, 24)\n"
          ]
        }
      ]
    },
    {
      "cell_type": "markdown",
      "source": [
        "Архитектура сети"
      ],
      "metadata": {
        "id": "1ycyEva8A7Jr"
      }
    },
    {
      "cell_type": "code",
      "source": [
        "class Encoder(tf.keras.Model):\n",
        "\n",
        "  # Конструктор класса\n",
        "  def __init__(self,\n",
        "               vocab_size,    # размер словаря\n",
        "               embedding_dim, # размер пространства эмбеддинга\n",
        "               enc_units,     # число нейронов в GRU\n",
        "               batch_sz):     # размер батча\n",
        "\n",
        "    super(Encoder, self).__init__()                                   # вызываем инициализацию родительского класса\n",
        "    self.batch_sz = batch_sz                                          # инициализируем переменную размера батча внутри класса\n",
        "    self.enc_units = enc_units                                        # инициализируем переменную размера слоя в кодировщике\n",
        "    self.embedding = tf.keras.layers.Embedding(vocab_size, embedding_dim)             # инициализируем слой эмбеддинга с заданными параметрами\n",
        "\n",
        "    self.gru = tf.keras.layers.GRU(self.enc_units, return_sequences=True, return_state=True, recurrent_initializer='glorot_uniform') # инициализируем рекуррентный слой с заданными параметрами\n",
        "\n",
        "  # Метод принимает входную фразу и начальное состояние\n",
        "  def call(self,\n",
        "           x,         # входная фраза\n",
        "           hidden):   # начальное состояние\n",
        "\n",
        "    x = self.embedding(x)   # входящие тензоры преобразовываются эмбеддингом\n",
        "    output, state = self.gru(x, initial_state = hidden) # далее пропускаем через слой GRU и получаем выходные данные и новое состояние\n",
        "\n",
        "    # Получаем форму output: (batch size, max_length, hidden_size)\n",
        "    # Получаем форму state: (batch size, hidden_size)\n",
        "    # sequence length == max_length\n",
        "    # units == hidden_size\n",
        "    return output, state # выход сети и состояние на выходе\n",
        "\n",
        "  # Создаем метод инициализации состояний на скрытых слоях\n",
        "  # Вернем тензор из нулей размер батча на размер слоя, его будем использовать как начальное состояние энкодера\n",
        "  def initialize_hidden_state(self):\n",
        "    return tf.zeros((self.batch_sz, self.enc_units))\n",
        "\n",
        "# Создадим модель кодировщика по заданным параметрам\n",
        "encoder = Encoder(VOCAB_EN_SIZE, EMBED_DIM, UNITS, BATCH_SIZE)"
      ],
      "metadata": {
        "id": "P0Ftmk9ZBfYC"
      },
      "execution_count": null,
      "outputs": []
    },
    {
      "cell_type": "markdown",
      "source": [
        "Механизм внимания"
      ],
      "metadata": {
        "id": "J2JhepwXBl8C"
      }
    },
    {
      "cell_type": "markdown",
      "source": [
        "Механизма внимания Luong и 3 функции:\n",
        "\n",
        "$$\n",
        "f(h_{t-1}, e_{t'}) =\n",
        "\\begin{cases}\n",
        "h_{t-1}^T e_{t'} & \\text{точечное внимание}\\\\\n",
        "h_{t-1}^T W e_{t'} & \\text{общее внимание}\\\\\n",
        "v^T \\tanh \\left(W [h_{t-1}, e_{t'}]\\right) & \\text{объединенное внимание}\\\\\n",
        "\\end{cases}\n",
        "$$\n"
      ],
      "metadata": {
        "id": "tocGK4Bt7WUz"
      }
    },
    {
      "cell_type": "markdown",
      "source": [
        "Класс внимания, который будет включать механизм внимания Богданова и 3 варианта механизма внимания Luong. Выбор используемого механизма внимания должен происходить при инициализации класса."
      ],
      "metadata": {
        "id": "OJB9zv4qGbup"
      }
    },
    {
      "cell_type": "code",
      "source": [
        "class Attention(tf.keras.layers.Layer):\n",
        "    def __init__(self, units, attention_type='bahdanau'):\n",
        "        super(Attention, self).__init__()\n",
        "        self.units = units\n",
        "        self.attention_type = attention_type\n",
        "\n",
        "        if attention_type == 'bahdanau':\n",
        "            self.W1 = tf.keras.layers.Dense(units)\n",
        "            self.W2 = tf.keras.layers.Dense(units)\n",
        "            self.V = tf.keras.layers.Dense(1)\n",
        "        elif attention_type in ['luong_dot', 'luong_general', 'luong_concat']:\n",
        "            if attention_type == 'luong_general':\n",
        "                self.Wa = tf.keras.layers.Dense(units)\n",
        "            elif attention_type == 'luong_concat':\n",
        "                self.Wa = tf.keras.layers.Dense(units)\n",
        "                self.Va = tf.keras.layers.Dense(1)\n",
        "\n",
        "    def call(self, query, values):\n",
        "        if self.attention_type == 'bahdanau':\n",
        "            # Bahdanau attention\n",
        "            query_with_time_axis = tf.expand_dims(query, 1)\n",
        "            score = self.V(tf.nn.tanh(self.W1(query_with_time_axis) + self.W2(values)))\n",
        "            attention_weights = tf.nn.softmax(score, axis=1)\n",
        "            context_vector = attention_weights * values\n",
        "            context_vector = tf.reduce_sum(context_vector, axis=1)\n",
        "            return context_vector, attention_weights\n",
        "\n",
        "        elif self.attention_type == 'luong_dot':\n",
        "            # Luong dot attention\n",
        "            score = tf.matmul(query, values, transpose_b=True)\n",
        "            attention_weights = tf.nn.softmax(score, axis=-1)\n",
        "            context_vector = tf.matmul(attention_weights, values)\n",
        "            return context_vector, attention_weights\n",
        "\n",
        "        elif self.attention_type == 'luong_general':\n",
        "            # Luong general attention\n",
        "            score = tf.matmul(query, self.Wa(values), transpose_b=True)\n",
        "            attention_weights = tf.nn.softmax(score, axis=-1)\n",
        "            context_vector = tf.matmul(attention_weights, values)\n",
        "            return context_vector, attention_weights\n",
        "\n",
        "        elif self.attention_type == 'luong_concat':\n",
        "            # Luong concat attention\n",
        "            query_with_time_axis = tf.expand_dims(query, 1)\n",
        "            score = self.Va(tf.nn.tanh(self.Wa(tf.concat([query_with_time_axis, values], axis=-1))))\n",
        "            attention_weights = tf.nn.softmax(score, axis=1)\n",
        "            context_vector = attention_weights * values\n",
        "            context_vector = tf.reduce_sum(context_vector, axis=1)\n",
        "            return context_vector, attention_weights\n"
      ],
      "metadata": {
        "id": "OoN50aOLGYxI"
      },
      "execution_count": null,
      "outputs": []
    },
    {
      "cell_type": "code",
      "source": [
        "attention_layer = Attention(units=10, attention_type='bahdanau')"
      ],
      "metadata": {
        "id": "KbbNhakAGxbw"
      },
      "execution_count": null,
      "outputs": []
    },
    {
      "cell_type": "markdown",
      "source": [
        "Декодировщик"
      ],
      "metadata": {
        "id": "wzfi5eW7HFea"
      }
    },
    {
      "cell_type": "code",
      "source": [
        "class Decoder(Model):\n",
        "\n",
        "  # Конструктор класса\n",
        "  def __init__(self,\n",
        "               vocab_size,    # размер словаря\n",
        "               embedding_dim, # размерность пространства эмбеддинга\n",
        "               dec_units,     # число нейронов в GRU\n",
        "               batch_sz):     # размер батча\n",
        "    super(Decoder, self).__init__()                       # вызываем инициализацию родительского класса\n",
        "    self.batch_sz = batch_sz                              # инициализируем переменную размера батча внутри класса\n",
        "    self.dec_units = dec_units                            # инициализируем переменную размера слоя в декодировщике\n",
        "    self.embedding = Embedding(vocab_size, embedding_dim) # инициализируем слой эмбеддинга с заданными параметрами\n",
        "\n",
        "    self.gru = GRU(self.dec_units, return_sequences=True, return_state=True, recurrent_initializer='glorot_uniform') # инициализируем рекуррентный слой с заданными параметрами\n",
        "\n",
        "\n",
        "    self.fc = Dense(vocab_size) # полносвязный слой с размером словаря\n",
        "\n",
        "    self.attention = Attention(self.dec_units, attention_type='bahdanau') # механизм внимания\n",
        "\n",
        "\n",
        "  def call(self,\n",
        "           x,           # начальный токен входной последовательности\n",
        "           hidden,      # состояние кодировщика\n",
        "           enc_output # выход кодировщика\n",
        "          ):\n",
        "\n",
        "    context_vector, attention_weights = self.attention(hidden, enc_output)\n",
        "\n",
        "    # Форма x после прохождения через  embedding: (batch_size, 1, embedding_dim)\n",
        "    x = self.embedding(x)\n",
        "\n",
        "    # Дальше конкатенируем с вектором контекста и получаем (batch_size, 1, embedding_dim + hidden_size)\n",
        "    x = tf.concat([tf.expand_dims(context_vector, 1), x], axis=-1)\n",
        "\n",
        "    # Сконкатенированный вектор передаем  в GRU и получаем выход с декодера и состояние\n",
        "    output, state = self.gru(x, initial_state = hidden)\n",
        "\n",
        "    # Форма output: (batch_size * 1, hidden_size)\n",
        "    output = tf.reshape(output, (-1, output.shape[2]))\n",
        "\n",
        "    # Пропускаем через полносвязный слой\n",
        "    x = self.fc(output)\n",
        "\n",
        "    # Форма выходной фразы: (batch_size, vocab)\n",
        "    # Вернем выходную фразу, вектор состояния, веса внимания\n",
        "    return x, state, attention_weights"
      ],
      "metadata": {
        "id": "xvh8zvIrHIdt"
      },
      "execution_count": null,
      "outputs": []
    },
    {
      "cell_type": "code",
      "source": [
        "# Создали декодировщик с параметрами\n",
        "decoder = Decoder(VOCAB_RU_SIZE, EMBED_DIM, UNITS, BATCH_SIZE)"
      ],
      "metadata": {
        "id": "E-ujcJ3hHKza"
      },
      "execution_count": null,
      "outputs": []
    },
    {
      "cell_type": "markdown",
      "source": [
        "Оптимизатор и функция потерь"
      ],
      "metadata": {
        "id": "pfUQlrCuHk9Y"
      }
    },
    {
      "cell_type": "code",
      "source": [
        "# Оптимизатор Adam\n",
        "optimizer = tf.keras.optimizers.Adam()\n",
        "\n",
        "# Функция потерь\n",
        "def loss_function(real, pred):\n",
        "\n",
        "  # Не все последовательности имеют одинаковую длину.\n",
        "  # Если в последовательности есть \"0\", то соответствующую ей потерю будем обнулять\n",
        "  # Для этого создадим маску\n",
        "  mask = tf.math.logical_not(tf.math.equal(real, 0))\n",
        "\n",
        "  # Создаем экземпляр класса SparseCategoricalCrossentropy\n",
        "  # И сразу вызываем его метод call() с параметрами: истинная и предсказанная фраза\n",
        "  # Получаем тензор ошибки\n",
        "  loss = tf.keras.losses.SparseCategoricalCrossentropy(from_logits=True, reduction='none')(real, pred)\n",
        "\n",
        "  mask = tf.cast(mask, dtype=loss.dtype) # приводим тип маски к типу потерь\n",
        "  loss *= mask                           # маскируем потери, избавляемся от заполняющих нулей\n",
        "\n",
        "  return tf.reduce_mean(loss) # вернем среднее значение тензора"
      ],
      "metadata": {
        "id": "8iUBuw6aHsxv"
      },
      "execution_count": null,
      "outputs": []
    },
    {
      "cell_type": "markdown",
      "source": [
        "Обучение модели"
      ],
      "metadata": {
        "id": "zXgG9Dq6HzSj"
      }
    },
    {
      "cell_type": "code",
      "source": [
        "import os\n",
        "\n",
        "checkpoint_dir = './training_checkpoints'\n",
        "checkpoint_prefix = os.path.join(checkpoint_dir, \"ckpt\")\n",
        "checkpoint = tf.train.Checkpoint(optimizer=optimizer,\n",
        "                                 encoder=encoder,\n",
        "                                 decoder=decoder)"
      ],
      "metadata": {
        "id": "nm8EC7qzH0Px"
      },
      "execution_count": null,
      "outputs": []
    },
    {
      "cell_type": "code",
      "source": [
        "@tf.function\n",
        "def train_step(inp, targ, enc_hidden): # определим входную фразу, перевод и состояние кодировщика\n",
        "  loss = 0 # переменная для фиксации ошибки\n",
        "\n",
        "  # tf.GradientTape() - записывает все  операции по вычислению градиента на ленту (tape)\n",
        "  with tf.GradientTape() as tape:\n",
        "\n",
        "    # Передаем входную последовательность и начальное состояние кодировщика\n",
        "    # Получим выход и состояние на выходе\n",
        "    enc_output, enc_hidden = encoder(inp, enc_hidden)\n",
        "\n",
        "    # dec_hidden используется вниманием, передадим состояние enc_hidden в декодер (фактически переименование для сохранения сути)\n",
        "    dec_hidden = enc_hidden\n",
        "\n",
        "    # SOS <start> токен инициализирует вход декодировщика\n",
        "    dec_input = tf.expand_dims([tokenizer_ru.word_index[SOS]] * BATCH_SIZE, 1)\n",
        "\n",
        "    # teacher forcing technique - ввод целевого токена (выходного слова) в качестве следующего входного токена\n",
        "    for t in range(1, targ.shape[1]): # для каждого слова из фразы\n",
        "\n",
        "      # Передаем enc_output в декодировщик\n",
        "      predictions, dec_hidden, _ = decoder(dec_input, dec_hidden, enc_output)\n",
        "\n",
        "      # Вычисляем потери\n",
        "      loss += loss_function(targ[:, t], predictions)\n",
        "\n",
        "      # Используем teacher forcing (переход на следующий шаг)\n",
        "      dec_input = tf.expand_dims(targ[:, t], 1)\n",
        "\n",
        "  # Поскольку эта функция вызывается для каждого пакета, вычисляем значение batch_loss\n",
        "  batch_loss = (loss / int(targ.shape[1]))\n",
        "\n",
        "  # Получаем переменные модели, для которых нужно считать градиенты\n",
        "  variables = encoder.trainable_variables + decoder.trainable_variables\n",
        "\n",
        "  # Вычисляем градиенты\n",
        "  gradients = tape.gradient(loss, variables)\n",
        "\n",
        "  # Обновляем веса модели\n",
        "  optimizer.apply_gradients(zip(gradients, variables))\n",
        "\n",
        "  # Функция обучения возвращает значение ошибки на батче\n",
        "  return batch_loss"
      ],
      "metadata": {
        "id": "D_gIjnXlIAtm"
      },
      "execution_count": null,
      "outputs": []
    },
    {
      "cell_type": "code",
      "source": [
        "import time\n",
        "\n",
        "# Цикл обучения\n",
        "for epoch in range(EPOCHS):\n",
        "  start = time.time()\n",
        "\n",
        "  # Инициализация скрытого состояния\n",
        "  enc_hidden = encoder.initialize_hidden_state()\n",
        "  total_loss = 0\n",
        "\n",
        "  # Цикл по всему датасету\n",
        "  for (batch, (inp, targ)) in enumerate(dataset.take(STEPS_PER_EPOCH)):\n",
        "\n",
        "    # Вызываем метод обучения\n",
        "    batch_loss = train_step(inp, targ, enc_hidden)\n",
        "\n",
        "    # Вычисляем потери по пакетам\n",
        "    total_loss += batch_loss\n",
        "\n",
        "  # Сохраняем чекпоинты каждые 5 эпох\n",
        "  if (epoch + 1) % 5 == 0:\n",
        "    checkpoint.save(file_prefix = checkpoint_prefix)\n",
        "\n",
        "  # статистика по каждой эпохе\n",
        "  print(f'Эпоха: {epoch + 1}  |  Потеря:  {(total_loss / STEPS_PER_EPOCH):.4f}  |  Время на эпоху: {time.time() - start} сек \\n' )"
      ],
      "metadata": {
        "colab": {
          "base_uri": "https://localhost:8080/"
        },
        "id": "pie6SE7eIBtG",
        "outputId": "e0f331c2-c027-4251-ecd8-ab174d555269"
      },
      "execution_count": null,
      "outputs": [
        {
          "output_type": "stream",
          "name": "stdout",
          "text": [
            "Эпоха: 1  |  Потеря:  2.1904  |  Время на эпоху: 55.41037106513977 сек \n",
            "\n",
            "Эпоха: 2  |  Потеря:  1.8187  |  Время на эпоху: 22.759917736053467 сек \n",
            "\n",
            "Эпоха: 3  |  Потеря:  1.7108  |  Время на эпоху: 22.678081035614014 сек \n",
            "\n",
            "Эпоха: 4  |  Потеря:  1.6168  |  Время на эпоху: 21.696540355682373 сек \n",
            "\n",
            "Эпоха: 5  |  Потеря:  1.5264  |  Время на эпоху: 23.056357860565186 сек \n",
            "\n",
            "Эпоха: 6  |  Потеря:  1.4399  |  Время на эпоху: 21.886414766311646 сек \n",
            "\n",
            "Эпоха: 7  |  Потеря:  1.3605  |  Время на эпоху: 22.156334161758423 сек \n",
            "\n",
            "Эпоха: 8  |  Потеря:  1.2837  |  Время на эпоху: 22.29591703414917 сек \n",
            "\n",
            "Эпоха: 9  |  Потеря:  1.2041  |  Время на эпоху: 22.64657974243164 сек \n",
            "\n",
            "Эпоха: 10  |  Потеря:  1.1275  |  Время на эпоху: 22.809507369995117 сек \n",
            "\n",
            "Эпоха: 11  |  Потеря:  1.0480  |  Время на эпоху: 22.725332975387573 сек \n",
            "\n",
            "Эпоха: 12  |  Потеря:  0.9662  |  Время на эпоху: 22.945930004119873 сек \n",
            "\n",
            "Эпоха: 13  |  Потеря:  0.8851  |  Время на эпоху: 22.467544078826904 сек \n",
            "\n",
            "Эпоха: 14  |  Потеря:  0.8052  |  Время на эпоху: 22.7556414604187 сек \n",
            "\n",
            "Эпоха: 15  |  Потеря:  0.7328  |  Время на эпоху: 23.119529485702515 сек \n",
            "\n",
            "Эпоха: 16  |  Потеря:  0.6656  |  Время на эпоху: 22.416059255599976 сек \n",
            "\n",
            "Эпоха: 17  |  Потеря:  0.6055  |  Время на эпоху: 22.500092267990112 сек \n",
            "\n",
            "Эпоха: 18  |  Потеря:  0.5473  |  Время на эпоху: 22.974130630493164 сек \n",
            "\n",
            "Эпоха: 19  |  Потеря:  0.4961  |  Время на эпоху: 22.464701414108276 сек \n",
            "\n",
            "Эпоха: 20  |  Потеря:  0.4538  |  Время на эпоху: 22.412139415740967 сек \n",
            "\n",
            "Эпоха: 21  |  Потеря:  0.4165  |  Время на эпоху: 22.70259404182434 сек \n",
            "\n",
            "Эпоха: 22  |  Потеря:  0.3815  |  Время на эпоху: 22.995479822158813 сек \n",
            "\n",
            "Эпоха: 23  |  Потеря:  0.3508  |  Время на эпоху: 21.434438943862915 сек \n",
            "\n",
            "Эпоха: 24  |  Потеря:  0.3268  |  Время на эпоху: 22.22491216659546 сек \n",
            "\n",
            "Эпоха: 25  |  Потеря:  0.3023  |  Время на эпоху: 22.66014528274536 сек \n",
            "\n",
            "Эпоха: 26  |  Потеря:  0.2789  |  Время на эпоху: 22.504660606384277 сек \n",
            "\n",
            "Эпоха: 27  |  Потеря:  0.2566  |  Время на эпоху: 21.919716835021973 сек \n",
            "\n",
            "Эпоха: 28  |  Потеря:  0.2369  |  Время на эпоху: 22.626911878585815 сек \n",
            "\n",
            "Эпоха: 29  |  Потеря:  0.2166  |  Время на эпоху: 21.61199975013733 сек \n",
            "\n",
            "Эпоха: 30  |  Потеря:  0.1973  |  Время на эпоху: 22.911585092544556 сек \n",
            "\n",
            "Эпоха: 31  |  Потеря:  0.1775  |  Время на эпоху: 22.4933500289917 сек \n",
            "\n",
            "Эпоха: 32  |  Потеря:  0.1597  |  Время на эпоху: 22.87507438659668 сек \n",
            "\n",
            "Эпоха: 33  |  Потеря:  0.1455  |  Время на эпоху: 22.567824840545654 сек \n",
            "\n",
            "Эпоха: 34  |  Потеря:  0.1290  |  Время на эпоху: 23.126432418823242 сек \n",
            "\n",
            "Эпоха: 35  |  Потеря:  0.1111  |  Время на эпоху: 22.629934310913086 сек \n",
            "\n",
            "Эпоха: 36  |  Потеря:  0.0954  |  Время на эпоху: 22.208699703216553 сек \n",
            "\n",
            "Эпоха: 37  |  Потеря:  0.0822  |  Время на эпоху: 21.80718159675598 сек \n",
            "\n",
            "Эпоха: 38  |  Потеря:  0.0701  |  Время на эпоху: 22.28341770172119 сек \n",
            "\n",
            "Эпоха: 39  |  Потеря:  0.0592  |  Время на эпоху: 22.731576919555664 сек \n",
            "\n",
            "Эпоха: 40  |  Потеря:  0.0494  |  Время на эпоху: 22.661966562271118 сек \n",
            "\n",
            "Эпоха: 41  |  Потеря:  0.0413  |  Время на эпоху: 22.48043966293335 сек \n",
            "\n",
            "Эпоха: 42  |  Потеря:  0.0357  |  Время на эпоху: 21.841188430786133 сек \n",
            "\n",
            "Эпоха: 43  |  Потеря:  0.0306  |  Время на эпоху: 21.800922632217407 сек \n",
            "\n",
            "Эпоха: 44  |  Потеря:  0.0266  |  Время на эпоху: 21.643517017364502 сек \n",
            "\n",
            "Эпоха: 45  |  Потеря:  0.0236  |  Время на эпоху: 21.763110160827637 сек \n",
            "\n",
            "Эпоха: 46  |  Потеря:  0.0207  |  Время на эпоху: 22.732688903808594 сек \n",
            "\n",
            "Эпоха: 47  |  Потеря:  0.0191  |  Время на эпоху: 22.732303380966187 сек \n",
            "\n",
            "Эпоха: 48  |  Потеря:  0.0175  |  Время на эпоху: 22.075637817382812 сек \n",
            "\n",
            "Эпоха: 49  |  Потеря:  0.0154  |  Время на эпоху: 22.29009985923767 сек \n",
            "\n",
            "Эпоха: 50  |  Потеря:  0.0141  |  Время на эпоху: 22.180997371673584 сек \n",
            "\n",
            "Эпоха: 51  |  Потеря:  0.0133  |  Время на эпоху: 22.17179226875305 сек \n",
            "\n",
            "Эпоха: 52  |  Потеря:  0.0131  |  Время на эпоху: 22.191387176513672 сек \n",
            "\n",
            "Эпоха: 53  |  Потеря:  0.0132  |  Время на эпоху: 21.293212175369263 сек \n",
            "\n",
            "Эпоха: 54  |  Потеря:  0.0124  |  Время на эпоху: 21.41311502456665 сек \n",
            "\n",
            "Эпоха: 55  |  Потеря:  0.0120  |  Время на эпоху: 22.195269346237183 сек \n",
            "\n",
            "Эпоха: 56  |  Потеря:  0.0111  |  Время на эпоху: 21.962244272232056 сек \n",
            "\n",
            "Эпоха: 57  |  Потеря:  0.0110  |  Время на эпоху: 22.582682609558105 сек \n",
            "\n",
            "Эпоха: 58  |  Потеря:  0.0102  |  Время на эпоху: 21.48514413833618 сек \n",
            "\n",
            "Эпоха: 59  |  Потеря:  0.0096  |  Время на эпоху: 21.66501235961914 сек \n",
            "\n",
            "Эпоха: 60  |  Потеря:  0.0092  |  Время на эпоху: 22.25378441810608 сек \n",
            "\n"
          ]
        }
      ]
    },
    {
      "cell_type": "markdown",
      "source": [
        "Тестирование модели"
      ],
      "metadata": {
        "id": "V0RVRABWJuvH"
      }
    },
    {
      "cell_type": "code",
      "source": [
        "import numpy as np\n",
        "\n",
        "# Функция оценки - аналогична циклу обучения\n",
        "def evaluate(sentence):\n",
        "\n",
        "  # График внимания (будет построен позже)\n",
        "  attention_plot = np.zeros((max_length_ru, max_length_en))\n",
        "\n",
        "  sentence = preprocess_sentence(sentence)\n",
        "\n",
        "  # Приведем предложение к нижнему регистру и разобьем на слова\n",
        "  words = sentence.split(' ')\n",
        "  inputs = list() # список для сбора токенов\n",
        "\n",
        "  # Для каждого слова в предложении найдем токен в словаре, если не найдем, то пропустим\n",
        "  for word in words:\n",
        "\n",
        "      try:\n",
        "          inputs.append(tokenizer_en.word_index[word]) # находим индекс в словаре и добавляем в список\n",
        "      except:\n",
        "          pass # игнорируем слово, которое не знаем\n",
        "\n",
        "  # Зафиксируем длину последовательности, дополнив нулями\n",
        "  inputs = tf.keras.preprocessing.sequence.pad_sequences([inputs],\n",
        "                                                         maxlen=max_length_en,\n",
        "                                                         padding='post')\n",
        "  # Конвертируем вход в тензор\n",
        "  inputs = tf.convert_to_tensor(inputs)\n",
        "  print(inputs)\n",
        "  result = ''\n",
        "\n",
        "  hidden = [tf.zeros((1, UNITS))]\n",
        "  enc_out, enc_hidden = encoder(inputs, hidden)\n",
        "\n",
        "  dec_hidden = enc_hidden\n",
        "  dec_input = tf.expand_dims([tokenizer_ru.word_index[SOS]], 0)\n",
        "\n",
        "  # Повторяйте цикл до тех пор, пока не будет достигнута максимальная длина для целевого языка\n",
        "  for t in range(max_length_ru):\n",
        "    predictions, dec_hidden, attention_weights = decoder(dec_input,\n",
        "                                                         dec_hidden,\n",
        "                                                         enc_out)\n",
        "\n",
        "    # Сохраняем значения коэффициентов внимания\n",
        "    attention_weights = tf.reshape(attention_weights, (-1, ))\n",
        "    attention_plot[t] = attention_weights.numpy()\n",
        "\n",
        "    # Получаем предсказание с максимальным вниманием\n",
        "    predicted_id = tf.argmax(predictions[0]).numpy()\n",
        "\n",
        "    # Добавляем токены к результату\n",
        "    result += tokenizer_ru.index_word[predicted_id] + ' '\n",
        "\n",
        "    # Если токен <end> достигнут, возвращаем результат, входные данные и график внимания\n",
        "    if tokenizer_ru.index_word[predicted_id] == EOS:\n",
        "      return result, sentence, attention_plot\n",
        "\n",
        "    # Педсказанное значение подается обратно в модель\n",
        "    dec_input = tf.expand_dims([predicted_id], 0)\n",
        "\n",
        "  return result, sentence, attention_plot"
      ],
      "metadata": {
        "id": "xgbE57aUJ3se"
      },
      "execution_count": null,
      "outputs": []
    },
    {
      "cell_type": "code",
      "source": [
        "import matplotlib.pyplot as plt\n",
        "import matplotlib.ticker as ticker\n",
        "\n",
        "# Функция отображения коэффициентов внимания\n",
        "# attention - веса внимания\n",
        "# sentence - исходная фраза\n",
        "# predicted_sentence - предсказаный перевод\n",
        "\n",
        "def plot_attention(attention, sentence, predicted_sentence):\n",
        "  fig = plt.figure(figsize=(10,10))\n",
        "  ax = fig.add_subplot(1, 1, 1)\n",
        "  ax.matshow(attention, cmap='viridis') # рисуем 2d матрицу\n",
        "  fontdict = {'fontsize': 14}           # размер текста\n",
        "\n",
        "  ax.set_xticklabels([''] + sentence, fontdict=fontdict, rotation=90) # подписи по горизонтали\n",
        "  ax.set_yticklabels([''] + predicted_sentence, fontdict=fontdict)    # подписи по вертикали\n",
        "\n",
        "  # Задаем форматирование делений (тикеров) по осям\n",
        "  ax.xaxis.set_major_locator(ticker.MultipleLocator(1))\n",
        "  ax.yaxis.set_major_locator(ticker.MultipleLocator(1))\n",
        "\n",
        "  plt.show()"
      ],
      "metadata": {
        "id": "IHhz3axMJ_Fm"
      },
      "execution_count": null,
      "outputs": []
    },
    {
      "cell_type": "code",
      "source": [
        "# Функция ответа на вопрос\n",
        "def answer(sentence):\n",
        "  # Вызов функции evaluate()\n",
        "  result, sentence, attention_plot = evaluate(sentence)\n",
        "\n",
        "  print('Ввод: %s' % (sentence))\n",
        "  print(f'Перевод: {result}')\n",
        "\n",
        "  attention_plot = attention_plot[:len(result.split(' ')), :len(sentence.split(' '))]\n",
        "  plot_attention(attention_plot, sentence.split(' '), result.split(' '))"
      ],
      "metadata": {
        "id": "FjCocmU4KDn2"
      },
      "execution_count": null,
      "outputs": []
    },
    {
      "cell_type": "code",
      "source": [
        "# Restore the latest checkpoint in checkpoint_dir\n",
        "checkpoint.restore(tf.train.latest_checkpoint(checkpoint_dir))"
      ],
      "metadata": {
        "colab": {
          "base_uri": "https://localhost:8080/"
        },
        "id": "gb0nXrWwKL81",
        "outputId": "e89818e0-311c-4886-c9e5-2d847a4dfe45"
      },
      "execution_count": null,
      "outputs": [
        {
          "output_type": "execute_result",
          "data": {
            "text/plain": [
              "<tensorflow.python.checkpoint.checkpoint.CheckpointLoadStatus at 0x79c25409c1f0>"
            ]
          },
          "metadata": {},
          "execution_count": 79
        }
      ]
    },
    {
      "cell_type": "markdown",
      "source": [
        "Генерируем ответы"
      ],
      "metadata": {
        "id": "smD4Z6lCKR3_"
      }
    },
    {
      "cell_type": "code",
      "source": [
        "answer('Are you hungry?')"
      ],
      "metadata": {
        "colab": {
          "base_uri": "https://localhost:8080/",
          "height": 862
        },
        "id": "z-TJk4MKKUF2",
        "outputId": "7d335ae0-3ab1-44ce-dc5d-2a5a193849e4"
      },
      "execution_count": null,
      "outputs": [
        {
          "output_type": "stream",
          "name": "stdout",
          "text": [
            "tf.Tensor(\n",
            "[[  1   6 626   4   2   0   0   0   0   0   0   0   0   0   0   0   0   0\n",
            "    0   0   0   0   0   0]], shape=(1, 24), dtype=int32)\n",
            "Ввод: <start> Are you hungry ? <end>\n",
            "Перевод: yet know . <end> \n"
          ]
        },
        {
          "output_type": "display_data",
          "data": {
            "text/plain": [
              "<Figure size 1000x1000 with 1 Axes>"
            ],
            "image/png": "[encoded data removed]"
          },
          "metadata": {}
        }
      ]
    },
    {
      "cell_type": "code",
      "source": [
        "answer('hi, how are you doing?')"
      ],
      "metadata": {
        "colab": {
          "base_uri": "https://localhost:8080/",
          "height": 986
        },
        "id": "-22EmfS8RJCT",
        "outputId": "5ce446d3-5800-4c4e-ac58-8865721da654"
      },
      "execution_count": null,
      "outputs": [
        {
          "output_type": "stream",
          "name": "stdout",
          "text": [
            "tf.Tensor(\n",
            "[[  1 515   8  29  22   6 117   4   2   0   0   0   0   0   0   0   0   0\n",
            "    0   0   0   0   0   0]], shape=(1, 24), dtype=int32)\n",
            "Ввод: <start> hi , how are you doing ? <end>\n",
            "Перевод: did , i happy . not you <end> \n"
          ]
        },
        {
          "output_type": "display_data",
          "data": {
            "text/plain": [
              "<Figure size 1000x1000 with 1 Axes>"
            ],
            "image/png": "[encoded data removed]"
          },
          "metadata": {}
        }
      ]
    },
    {
      "cell_type": "code",
      "source": [
        "answer('i am fine. how about yourself?')"
      ],
      "metadata": {
        "colab": {
          "base_uri": "https://localhost:8080/",
          "height": 987
        },
        "id": "gpqKEA00Rk9f",
        "outputId": "d2a3f351-d46e-4585-ce22-44bc4a266c89"
      },
      "execution_count": null,
      "outputs": [
        {
          "output_type": "stream",
          "name": "stdout",
          "text": [
            "tf.Tensor(\n",
            "[[  1   5 204 387   3  29  23 388   4   2   0   0   0   0   0   0   0   0\n",
            "    0   0   0   0   0   0]], shape=(1, 24), dtype=int32)\n",
            "Ввод: <start> i am fine . how about yourself ? <end>\n",
            "Перевод: other like talk . did , be but will . <end> \n"
          ]
        },
        {
          "output_type": "display_data",
          "data": {
            "text/plain": [
              "<Figure size 1000x1000 with 1 Axes>"
            ],
            "image/png": "[encoded data removed]"
          },
          "metadata": {}
        }
      ]
    },
    {
      "cell_type": "markdown",
      "source": [
        "Результат не такой хороший, какой мы ожидали. Для более лучшего резульата нужно увеличить кол-во примеров для обучения и эпох."
      ],
      "metadata": {
        "id": "ss4Q2XUNSn1S"
      }
    }
  ]
}